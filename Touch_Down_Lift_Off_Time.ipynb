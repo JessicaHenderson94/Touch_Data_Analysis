{
 "cells": [
  {
   "cell_type": "markdown",
   "metadata": {},
   "source": [
    "Import modules"
   ]
  },
  {
   "cell_type": "code",
   "execution_count": 621,
   "metadata": {},
   "outputs": [],
   "source": [
    "%matplotlib inline\n",
    "import pandas as pd\n",
    "import os, glob\n",
    "import matplotlib.pyplot as plt\n",
    "import numpy as np\n",
    "np.seterr(divide='ignore', invalid='ignore')\n",
    "import scipy\n",
    "from scipy.stats import zscore"
   ]
  },
  {
   "cell_type": "markdown",
   "metadata": {},
   "source": [
    "Set up participant number"
   ]
  },
  {
   "cell_type": "code",
   "execution_count": 622,
   "metadata": {},
   "outputs": [],
   "source": [
    "participantNumber = ['P01', 'P02', 'P03', 'P04', 'P05', 'P06', 'P07', 'P08', 'P09', 'P10', 'P11', 'P12', 'P13', 'P14',\n",
    "                     'P15', 'P16', 'P17', 'P18', 'P19', 'P20', 'P21', 'P22', 'P23', 'P24', 'P25', 'P26', 'P27', 'P28',\n",
    "                     'P29', 'P30', 'P31', 'P32', 'P33', 'P34', 'P35']"
   ]
  },
  {
   "cell_type": "markdown",
   "metadata": {},
   "source": [
    "Set up block number"
   ]
  },
  {
   "cell_type": "code",
   "execution_count": 623,
   "metadata": {},
   "outputs": [],
   "source": [
    "blockNumber = ['B1', 'B2', 'B3']"
   ]
  },
  {
   "cell_type": "markdown",
   "metadata": {},
   "source": [
    "Set up fabric code"
   ]
  },
  {
   "cell_type": "code",
   "execution_count": 624,
   "metadata": {},
   "outputs": [],
   "source": [
    "fabricCode = ['A', 'B', 'C']\n"
   ]
  },
  {
   "cell_type": "markdown",
   "metadata": {},
   "source": [
    "Set up episode number"
   ]
  },
  {
   "cell_type": "code",
   "execution_count": 625,
   "metadata": {},
   "outputs": [],
   "source": [
    "episodeNumber = [1.0, 2.0, 3.0, 4.0, 5.0, 6.0, 7.0, 8.0, 9.0, 10.0, 11.0, 12.0, 13.0, 14.0, 15.0, 16.0, 17.0, 18.0]"
   ]
  },
  {
   "cell_type": "markdown",
   "metadata": {},
   "source": [
    "Read in compilation table"
   ]
  },
  {
   "cell_type": "code",
   "execution_count": 626,
   "metadata": {},
   "outputs": [],
   "source": [
    "df = pd.read_csv('C:\\LINEAR_SENSOR\\_Processed_Data\\_MATLAB_Processed\\Total load calculations\\CompilationTable.csv')"
   ]
  },
  {
   "cell_type": "markdown",
   "metadata": {},
   "source": [
    "Remove irrelevent coloums from dataframe"
   ]
  },
  {
   "cell_type": "code",
   "execution_count": 627,
   "metadata": {},
   "outputs": [],
   "source": [
    "\n",
    "df = df.drop(['Position_mm', 'File_Number', 'Reference', 'Protocol', 'Analysis', 'Date_Stamp', 'Time_Stamp', 'DataSaveBlock',\n",
    "              'BlockStamp_s', 'BrickInBlock', 'Time_s', 'Adjustment_s', 'RelativeTime_s', 'Trigger_V', 'SensorA_Abs_V',\n",
    "              'SensorB_Abs_V', 'SensorA_Net_V', 'SensorB_Net_V', 'ForceAtXminus47p5mm_g', 'ForceAtXplus47p5mm_g', 'Study'],\n",
    "             axis=1)"
   ]
  },
  {
   "cell_type": "markdown",
   "metadata": {},
   "source": [
    "Create empty data frames"
   ]
  },
  {
   "cell_type": "code",
   "execution_count": 628,
   "metadata": {},
   "outputs": [],
   "source": [
    "#Create emoty data frame to \n",
    "dfindexDifferences = pd.DataFrame(columns=['Participant', 'Block', 'Fabric', 'Episode Number', 'Index Difference'])\n",
    "\n",
    "# Create empty data frame to append touch down means to\n",
    "dfTouchDown = pd.DataFrame(columns=['Participant', 'Block', 'Fabric', 'Episode Number', 'EpisodeRelativeTime_s'])\n",
    "\n",
    "# Create empty  data frame to append lift off means to\n",
    "dfLiftOff = pd.DataFrame(columns=['Participant', 'Block', 'Fabric', 'Episode Number', 'EpisodeRelativeTime_s'])"
   ]
  },
  {
   "cell_type": "markdown",
   "metadata": {},
   "source": [
    "Filter data"
   ]
  },
  {
   "cell_type": "code",
   "execution_count": 629,
   "metadata": {},
   "outputs": [],
   "source": [
    "dfFiltered = df.loc[~(df['Episode_Number'] ==0)] #Remove any rows where Episode_Number is equal to 0\n",
    "dfFiltered = dfFiltered[dfFiltered['EpisodeRelativeTime_s'] >= 0] #Remove any rows where EpisodeRelativeTime_s is equal to or less than 0\n",
    "dfFiltered= dfFiltered[dfFiltered['EpisodeRelativeTime_s'] < 7] #Remove any rows where EpisodeRelativeTime_s is equal to or greater than 7\n",
    "dfFiltered = dfFiltered[dfFiltered['TotalLoad_g'] > 1] #Remove any rows where TotalLoad_g is equal to or less than 0\n",
    "#dfFiltered = dfFiltered.reset_index()\n",
    "#dfFiltered"
   ]
  },
  {
   "cell_type": "markdown",
   "metadata": {},
   "source": [
    "Loop to calculate mean for each episode"
   ]
  },
  {
   "cell_type": "code",
   "execution_count": 630,
   "metadata": {},
   "outputs": [
    {
     "name": "stdout",
     "output_type": "stream",
     "text": [
      "     Participant Block Fabric  Episode Number  EpisodeRelativeTime_s\n",
      "0            P01    B1      A             1.0               6.022120\n",
      "1            P01    B1      A             2.0               6.129291\n",
      "2            P01    B1      A             3.0               5.983861\n",
      "3            P01    B1      A             4.0               5.437892\n",
      "4            P01    B1      A             5.0               5.492574\n",
      "...          ...   ...    ...             ...                    ...\n",
      "4723         P35    B3      C            14.0               5.769198\n",
      "4724         P35    B3      C            15.0               6.271331\n",
      "4725         P35    B3      C            16.0               6.124317\n",
      "4726         P35    B3      C            17.0               6.375897\n",
      "4727         P35    B3      C            18.0               5.984886\n",
      "\n",
      "[4728 rows x 5 columns]\n"
     ]
    }
   ],
   "source": [
    "\n",
    "for p in participantNumber:\n",
    "    dfP = dfFiltered[dfFiltered['Participant'] == p]  # when value in 'Participant' column is equal to the participant value in loop\n",
    "    for b in blockNumber:\n",
    "        dfB = dfP[dfP['Study_Block'] == b]  # when value in 'Study_Block' column is equal to theStudy_block value in loop\n",
    "        for f in fabricCode:\n",
    "            dfF = dfB[dfB['Fabric'] == f]  # when value in 'Fabric' column is equal to the fabric value in loop\n",
    "            for e in episodeNumber:\n",
    "                dfE = dfF[dfF['Episode_Number'] == e]  # when value in 'Episode number' column is equal to the episode value in loop\n",
    "                dfE = dfE.assign(TotalLoad_g_zscore = '') #create a new empty column in data fram dfE called 'TotalLoad_g_zscore'\n",
    "                dfE['TotalLoad_g_zscore'] = zscore(dfE['TotalLoad_g']) # create zscore for 'TotalLoad_g' and put values in a new column of dfE named 'TotalLoad_g_zscore'\n",
    "                dfFiltered_zscore = dfE.loc[~(dfE['TotalLoad_g_zscore'] <= -2)] #Filter out zscores that are less than -2\n",
    "                dfFiltered_zscore = dfFiltered_zscore.loc[~(dfFiltered_zscore['TotalLoad_g_zscore'] >= 2)] #Filter out scores that are great than 2\n",
    "                dfFiltered_zscore = dfFiltered_zscore.reset_index() #Resets index of pandas dataframe wihlst creating a new column 'Index' containing the old index. \n",
    "               \n",
    "                dfShape = len(dfFiltered_zscore.index)\n",
    "                if (dfShape <= 10): #skip over dataframes that have less than 10 rows\n",
    "                    continue\n",
    "                \n",
    "                dfMinIndex = dfFiltered_zscore.at[0, 'index'] #find the first value in  the 'index' column\n",
    "                dfSecondIndex = dfFiltered_zscore.at[1,'index'] #find the second value in the 'index' column \n",
    "                dfIndexDifferenceCalculation = dfSecondIndex - dfMinIndex #Calculate the differnece between the second and first index value\n",
    "                #dfindexDifferences = dfindexDifferences.append({'Participant': p, 'Block': b, 'Fabric': f, 'Episode Number': float(e), 'Index Difference': dfIndexDifferenceCalculation},ignore_index=True)\n",
    "                \n",
    "                if (dfIndexDifferenceCalculation > 1): \n",
    "                    touchDownTime = dfFiltered_zscore.at[1, 'EpisodeRelativeTime_s']    \n",
    "                    \n",
    "                else:\n",
    "                    touchDownTime = dfFiltered_zscore.at[0, 'EpisodeRelativeTime_s']\n",
    "                \n",
    "                dfTouchDown = dfTouchDown.append({'Participant': p, 'Block': b, 'Fabric': f, 'Episode Number': float(e), 'EpisodeRelativeTime_s': touchDownTime}, ignore_index=True)\n",
    "                \n",
    "                dfReverse = dfFiltered_zscore.iloc[::-1] #Reverse the dataframe\n",
    "                dfReverse = dfReverse.reset_index(drop=True)\n",
    "                dfMaxIndex = dfReverse.at[1, 'index'] #find the first value in  the 'index' column\n",
    "                dfSecondMaxIndex = dfReverse.at[0,'index'] #find the second value in the 'index' column \n",
    "                dfIndexDifferenceMaxCalculation = dfSecondMaxIndex - dfMaxIndex #Calculate the differnece between the second and first index value\n",
    "                \n",
    "                if (dfIndexDifferenceMaxCalculation > 1): \n",
    "                    LiftOffTime = dfReverse.at[1, 'EpisodeRelativeTime_s']    \n",
    "                    \n",
    "                else:\n",
    "                    LiftOffTime = dfReverse.at[0, 'EpisodeRelativeTime_s']\n",
    "                    \n",
    "                dfLiftOff = dfLiftOff.append({'Participant': p, 'Block': b, 'Fabric': f, 'Episode Number': float(e), 'EpisodeRelativeTime_s': LiftOffTime}, ignore_index=True)\n",
    "                "
   ]
  },
  {
   "cell_type": "markdown",
   "metadata": {},
   "source": [
    "Export Files"
   ]
  },
  {
   "cell_type": "code",
   "execution_count": 633,
   "metadata": {},
   "outputs": [],
   "source": [
    "exportindexDifferences= dfindexDifferences.to_csv(r'C:\\LINEAR_SENSOR\\_Processed_Data\\_MATLAB_Processed\\Touch Down Calculations\\Index_Differences.csv', mode='a', index=None)\n",
    "exporttouchDownTime= dfTouchDown.to_csv(r'C:\\LINEAR_SENSOR\\_Processed_Data\\_MATLAB_Processed\\Touch Down Calculations\\Touch_Down_Time.csv', mode='a', index=None)\n",
    "exportdfLiftOff= dfLiftOff.to_csv(r'C:\\LINEAR_SENSOR\\_Processed_Data\\_MATLAB_Processed\\Touch Down Calculations\\Lift_Off.csv', mode='a', index=None)"
   ]
  }
 ],
 "metadata": {
  "kernelspec": {
   "display_name": "Python 3",
   "language": "python",
   "name": "python3"
  },
  "language_info": {
   "codemirror_mode": {
    "name": "ipython",
    "version": 3
   },
   "file_extension": ".py",
   "mimetype": "text/x-python",
   "name": "python",
   "nbconvert_exporter": "python",
   "pygments_lexer": "ipython3",
   "version": "3.7.2"
  }
 },
 "nbformat": 4,
 "nbformat_minor": 4
}
