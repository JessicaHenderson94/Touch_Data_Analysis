{
 "cells": [
  {
   "cell_type": "markdown",
   "metadata": {},
   "source": [
    "# Extracting Total Load \n"
   ]
  },
  {
   "cell_type": "markdown",
   "metadata": {},
   "source": [
    "Import modules"
   ]
  },
  {
   "cell_type": "code",
   "execution_count": 86,
   "metadata": {},
   "outputs": [],
   "source": [
    "%matplotlib inline\n",
    "import pandas as pd\n",
    "import os, glob\n",
    "import matplotlib.pyplot as plt\n",
    "import numpy as np\n",
    "np.seterr(divide='ignore', invalid='ignore')\n",
    "import scipy\n",
    "from scipy.stats import zscore"
   ]
  },
  {
   "cell_type": "markdown",
   "metadata": {},
   "source": [
    "Set up participant number"
   ]
  },
  {
   "cell_type": "code",
   "execution_count": 87,
   "metadata": {},
   "outputs": [],
   "source": [
    "participantNumber = ['P01', 'P02', 'P03', 'P04', 'P05', 'P06', 'P07', 'P08', 'P09', 'P10', 'P11', 'P12', 'P13', 'P14',\n",
    "                     'P15', 'P16', 'P17', 'P18', 'P19', 'P20', 'P21', 'P22', 'P23', 'P24', 'P25', 'P26', 'P27', 'P28',\n",
    "                     'P29', 'P30', 'P31', 'P32', 'P33', 'P34', 'P35']"
   ]
  },
  {
   "cell_type": "markdown",
   "metadata": {},
   "source": [
    "Set up block number"
   ]
  },
  {
   "cell_type": "code",
   "execution_count": 88,
   "metadata": {},
   "outputs": [],
   "source": [
    "blockNumber = ['B1', 'B2', 'B3']"
   ]
  },
  {
   "cell_type": "markdown",
   "metadata": {},
   "source": [
    "Set up fabric code"
   ]
  },
  {
   "cell_type": "code",
   "execution_count": 89,
   "metadata": {},
   "outputs": [],
   "source": [
    "fabricCode = ['A', 'B', 'C']\n"
   ]
  },
  {
   "cell_type": "markdown",
   "metadata": {},
   "source": [
    "Set up episode number"
   ]
  },
  {
   "cell_type": "code",
   "execution_count": 90,
   "metadata": {},
   "outputs": [],
   "source": [
    "episodeNumber = [1.0, 2.0, 3.0, 4.0, 5.0, 6.0, 7.0, 8.0, 9.0, 10.0, 11.0, 12.0, 13.0, 14.0, 15.0, 16.0, 17.0, 18.0]"
   ]
  },
  {
   "cell_type": "markdown",
   "metadata": {},
   "source": [
    "Read in compilation table"
   ]
  },
  {
   "cell_type": "code",
   "execution_count": 91,
   "metadata": {},
   "outputs": [],
   "source": [
    "df = pd.read_csv('C:\\LINEAR_SENSOR\\_Processed_Data\\_MATLAB_Processed\\Total load calculations\\CompilationTable.csv')"
   ]
  },
  {
   "cell_type": "markdown",
   "metadata": {},
   "source": [
    "Remove irrelevent coloums from dataframe"
   ]
  },
  {
   "cell_type": "code",
   "execution_count": 92,
   "metadata": {},
   "outputs": [],
   "source": [
    "df = df.drop(\n",
    "    ['Position_mm', 'File_Number', 'Reference', 'Protocol', 'Analysis', 'Date_Stamp', 'Time_Stamp', 'DataSaveBlock',\n",
    "     'BlockStamp_s', 'BrickInBlock', 'Time_s', 'Adjustment_s', 'RelativeTime_s', 'Trigger_V', 'SensorA_Abs_V',\n",
    "     'SensorB_Abs_V', 'SensorA_Net_V', 'SensorB_Net_V', 'ForceAtXminus47p5mm_g', 'ForceAtXplus47p5mm_g', 'Study'],\n",
    "    axis=1)\n"
   ]
  },
  {
   "cell_type": "markdown",
   "metadata": {},
   "source": [
    "Filter data"
   ]
  },
  {
   "cell_type": "code",
   "execution_count": 93,
   "metadata": {},
   "outputs": [],
   "source": [
    "dfFiltered = df.loc[~(df['Episode_Number'] ==0)]\n",
    "dfFiltered = dfFiltered[dfFiltered['EpisodeRelativeTime_s'] >= 0]\n",
    "dfFiltered= dfFiltered[dfFiltered['EpisodeRelativeTime_s'] < 6]\n",
    "dfFiltered = dfFiltered[dfFiltered['TotalLoad_g'] > 1]\n",
    "#dfFiltered = dfFiltered.reset_index()\n",
    "#dfFiltered"
   ]
  },
  {
   "cell_type": "markdown",
   "metadata": {},
   "source": [
    "Create empty data frames"
   ]
  },
  {
   "cell_type": "code",
   "execution_count": 94,
   "metadata": {},
   "outputs": [],
   "source": [
    "# Create empty data frame to append episode means to\n",
    "dfEpisodes = pd.DataFrame(columns=['Participant', 'Block', 'Fabric', 'Episode Number', 'Mean Load'])\n",
    "\n",
    "# Create empty  data frame to append block means to\n",
    "dfFabric = pd.DataFrame(columns=['Participant', 'Block', 'Fabric', 'Mean Load'])\n",
    "\n",
    "#Create empty data frame to append Participant means to\n",
    "dfParticipant = pd.DataFrame(columns=['Participant', 'Fabric', 'Mean Load'])"
   ]
  },
  {
   "cell_type": "markdown",
   "metadata": {},
   "source": [
    "Loop to calculate mean for each episode"
   ]
  },
  {
   "cell_type": "code",
   "execution_count": 95,
   "metadata": {},
   "outputs": [],
   "source": [
    "\n",
    "for p in participantNumber:\n",
    "    dfP = dfFiltered[dfFiltered['Participant'] == p]  # when value in 'Participant' column is equal to the participant value in loop\n",
    "    for b in blockNumber:\n",
    "        dfB = dfP[dfP['Study_Block'] == b]  # when value in 'Study_Block' column is equal to theStudy_block value in loop\n",
    "        dfStatsFabric = pd.DataFrame(columns=['Participant', 'Block', 'Fabric', 'Mean Load'])\n",
    "        for f in fabricCode:\n",
    "            dfF = dfB[dfB['Fabric'] == f]  # when value in 'Fabric' column is equal to the fabric value in loop\n",
    "            dfStatsEpisodes = pd.DataFrame(columns=['Participant', 'Block', 'Fabric', 'Mean Load'])\n",
    "            for e in episodeNumber:\n",
    "                dfE = dfF[dfF['Episode_Number'] == e]  # when value in 'Episode number' column is equal to the episode value in loop\n",
    "                dfE = dfE.assign(TotalLoad_g_zscore = '') #create a new empty column in data fram dfE called 'TotalLoad_g_zscore'\n",
    "                dfE['TotalLoad_g_zscore'] = zscore(dfE['TotalLoad_g']) # create zscore for 'TotalLoad_g' and put values in a new column of dfE named 'TotalLoad_g_zscore'\n",
    "                dfFiltered_zscore = dfE.loc[~(dfE['TotalLoad_g_zscore'] <= -2)] #Filter out zscores that are less than -2\n",
    "                dfFiltered_zscore = dfFiltered_zscore.loc[~(dfFiltered_zscore['TotalLoad_g_zscore'] >= 2)] #Filter out scores that are great than 2\n",
    "                #dfFiltered_zscoreMax = dfFiltered_zscore['TotalLoad_g'].max()\n",
    "                #dfFiltered_zscoreMax = dfFiltered_zscoreMax *1.5\n",
    "                meanLoad = dfFiltered_zscore['TotalLoad_g'].mean()\n",
    "                dfStatsEpisodes = dfStatsEpisodes.append({'Participant': p, 'Block': b, 'Fabric': f, 'Episode Number': float(e), 'Mean Load': meanLoad},ignore_index=True)\n",
    "                dfEpisodes = dfEpisodes.append({'Participant': p, 'Block': b, 'Fabric': f, 'Episode Number': float(e), 'Mean Load': meanLoad},ignore_index=True)\n",
    "            \n",
    "            # Create plot for each episode number for the block and fabric\n",
    "            #plt.scatter(dfStatsEpisodes_zscore['Episode Number'], dfStatsEpisodes_zscore['Mean Load'])\n",
    "            #plt.title(str(p)+'_'+str(b)+'_'+str(f))\n",
    "            #plt.ylim(0, dfFiltered_zscoreMax)\n",
    "            #plt.xticks(episodeNumber)\n",
    "            #plt.show()\n",
    "            #input(\"Press Enter to continue...\")\n",
    "\n"
   ]
  },
  {
   "cell_type": "markdown",
   "metadata": {},
   "source": [
    "Remove NaN values from episodes data frame"
   ]
  },
  {
   "cell_type": "code",
   "execution_count": 96,
   "metadata": {},
   "outputs": [],
   "source": [
    "dfEpisodesFiltered = dfEpisodes.dropna()\n"
   ]
  },
  {
   "cell_type": "markdown",
   "metadata": {},
   "source": [
    "Loop to calculate mean for each block"
   ]
  },
  {
   "cell_type": "code",
   "execution_count": 97,
   "metadata": {},
   "outputs": [],
   "source": [
    "for p in participantNumber: \n",
    "    dfP3 = dfEpisodesFiltered[dfEpisodesFiltered['Participant'] == p]\n",
    "    for b in  blockNumber: \n",
    "        dfB3 = dfP3[dfP3['Block'] == b]\n",
    "        for f in fabricCode: \n",
    "            dfF3 = dfB3[dfB3['Fabric'] == f]\n",
    "            dfF3 = dfF3.assign(Mean_Load_zscore = '') #create a new empty column in data fram dfE called 'TotalLoad_g_zscore'\n",
    "            dfF3['Mean_Load_zscore'] = zscore(dfF3['Mean Load']) # create zscore for 'TotalLoad_g' and put values in a new column of dfE named 'TotalLoad_g_zscore'\n",
    "            dfF3Filtered_zscore = dfF3.loc[~(dfF3['Mean_Load_zscore'] <= -2)] #Filter out zscores that are less than -2\n",
    "            dfF3Filtered_zscore = dfF3Filtered_zscore.loc[~(dfF3Filtered_zscore['Mean_Load_zscore'] >= 2)] #Filter out scores that are great than 2\n",
    "            meanLoadFabric = dfF3Filtered_zscore['Mean Load'].mean()\n",
    "     \n",
    "            #Append mean load for each fabric for each block to a dataframe\n",
    "            dfFabric = dfFabric.append({'Participant': p, 'Block': b, 'Fabric': f, 'Mean Load': meanLoadFabric},ignore_index=True)\n",
    "            "
   ]
  },
  {
   "cell_type": "markdown",
   "metadata": {},
   "source": [
    "Remove NaN values from fabric data frame "
   ]
  },
  {
   "cell_type": "code",
   "execution_count": 98,
   "metadata": {},
   "outputs": [],
   "source": [
    "dfFabricFiltered = dfFabric.dropna()"
   ]
  },
  {
   "cell_type": "markdown",
   "metadata": {},
   "source": [
    "Loop to caluclate mean for each fabric"
   ]
  },
  {
   "cell_type": "code",
   "execution_count": 99,
   "metadata": {
    "scrolled": true
   },
   "outputs": [],
   "source": [
    "\n",
    "for p in participantNumber:\n",
    "    dfP4 = dfFabricFiltered[dfFabricFiltered['Participant'] == p]\n",
    "    for f in fabricCode: \n",
    "        dfF4 = dfP4[dfP4['Fabric'] == f]\n",
    "        dfF4 = dfF4.assign(Mean_Load_zscore = '') #create a new empty column in data fram dfE called 'TotalLoad_g_zscore'\n",
    "        dfF4['Mean_Load_zscore'] = zscore(dfF4['Mean Load']) # create zscore for 'TotalLoad_g' and put values in a new column of dfE named 'TotalLoad_g_zscore'\n",
    "        dfF4Filtered_zscore = dfF4.loc[~(dfF4['Mean_Load_zscore'] <= -2)] #Filter out zscores that are less than -2\n",
    "        dF4Filtered_zscore = dfF4Filtered_zscore.loc[~(dfF4Filtered_zscore['Mean_Load_zscore'] >= 2)] #Filter out scores that are great than 2\n",
    "        meanLoadBlock = dfF4Filtered_zscore['Mean Load'].mean()\n",
    "            \n",
    "        #Append mean load for each fabric for each block to a dataframe\n",
    "        dfParticipant = dfParticipant.append({'Participant': p, 'Fabric': f, 'Mean Load':meanLoadBlock},ignore_index=True)\n",
    "                           \n"
   ]
  },
  {
   "cell_type": "markdown",
   "metadata": {},
   "source": [
    "Export data"
   ]
  },
  {
   "cell_type": "code",
   "execution_count": 100,
   "metadata": {},
   "outputs": [],
   "source": [
    "exportParticipant= dfParticipant.to_csv(r'C:\\LINEAR_SENSOR\\_Processed_Data\\_MATLAB_Processed\\Total load calculations\\Fabric_Means.csv', mode='a', index=None)\n",
    "exportFabric= dfFabric.to_csv(r'C:\\LINEAR_SENSOR\\_Processed_Data\\_MATLAB_Processed\\Total load calculations\\Block_Means.csv', mode='a', index=None)\n",
    "exportEpisodes= dfEpisodes.to_csv(r'C:\\LINEAR_SENSOR\\_Processed_Data\\_MATLAB_Processed\\Total load calculations\\Episode_Means.csv', mode='a', index=None)"
   ]
  }
 ],
 "metadata": {
  "kernelspec": {
   "display_name": "Python 3",
   "language": "python",
   "name": "python3"
  },
  "language_info": {
   "codemirror_mode": {
    "name": "ipython",
    "version": 3
   },
   "file_extension": ".py",
   "mimetype": "text/x-python",
   "name": "python",
   "nbconvert_exporter": "python",
   "pygments_lexer": "ipython3",
   "version": "3.7.2"
  }
 },
 "nbformat": 4,
 "nbformat_minor": 4
}
